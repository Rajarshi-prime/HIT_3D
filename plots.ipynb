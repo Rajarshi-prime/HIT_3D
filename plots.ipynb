{
 "cells": [
  {
   "cell_type": "code",
   "execution_count": 1,
   "metadata": {},
   "outputs": [],
   "source": [
    "import numpy as np\n",
    "import matplotlib.pyplot as plt\n",
    "import pathlib\n",
    "import matplotlib as mpl \n",
    "import os\n",
    "from seaborn import color_palette\n",
    "mpl.rc('text', usetex = False)\n",
    "import seaborn as sns\n",
    "from scipy.fft import rfftn, irfftn,fftfreq"
   ]
  },
  {
   "cell_type": "markdown",
   "metadata": {},
   "source": [
    "## Simulation details"
   ]
  },
  {
   "cell_type": "code",
   "execution_count": 2,
   "metadata": {},
   "outputs": [],
   "source": [
    "N = 1024\n",
    "num_slabs = 512\n",
    "nu = 2e-3\n",
    "isforcing = True"
   ]
  },
  {
   "cell_type": "code",
   "execution_count": 3,
   "metadata": {},
   "outputs": [],
   "source": [
    "PI = np.pi\n",
    "TWO_PI = 2*PI\n",
    "Nf = N//2 + 1\n",
    "Nd = np.round(2/3**0.5*Nf,0).astype(int)\n",
    "Np = N\n",
    "L = TWO_PI\n",
    "X = Y = Z = np.linspace(0, L, N, endpoint= False)\n",
    "dx,dy,dz = X[1]-X[0], Y[1]-Y[0], Z[1]-Z[0]\n",
    "\n",
    "\n",
    "Kx = Ky = Kz = fftfreq(N,  1./N)*TWO_PI/L\n",
    "Kz = Kz[:Nf]"
   ]
  },
  {
   "cell_type": "code",
   "execution_count": 4,
   "metadata": {},
   "outputs": [
    {
     "name": "stdout",
     "output_type": "stream",
     "text": [
      "True\n",
      "/mnt/pfs/rajarshi.chattopadhyay/codes/HIT_3D/data/forced_True/N_1024_Re_500.0/time_0.0\n"
     ]
    }
   ],
   "source": [
    "loadPath = lambda t : pathlib.Path(f\"/mnt/pfs/rajarshi.chattopadhyay/codes/HIT_3D/data/forced_{isforcing}/N_{N}_Re_{1/nu:.1f}/time_{t:.1f}\")\n",
    "# loadPath = lambda t : pathlib.Path(f\"/home/rajarshi.chattopadhyay/python/3D-DNS/data/forced/N_128_Re_600.0/time_{t:.1f}\")\n",
    "# loadPath = lambda t : pathlib.Path(f\"./data/forced_{isforcing}/N_{N}_Re_{1/nu:.1f}/time_{t:.1f}\")\n",
    "print(loadPath(0).exists())\n",
    "print(loadPath(0))\n",
    "# \"/mnt/pfs/rajarshi.chattopadhyay/3D-DNS/data/forced_True/N_128_Re_200.0/time_0.0\""
   ]
  },
  {
   "cell_type": "code",
   "execution_count": 5,
   "metadata": {},
   "outputs": [
    {
     "data": {
      "text/plain": [
       "5.0"
      ]
     },
     "execution_count": 5,
     "metadata": {},
     "output_type": "execute_result"
    }
   ],
   "source": [
    "times = [float(i.split(\"_\")[-1]) for i in os.listdir(loadPath(0).parent) if \"time\" in i]\n",
    "times.sort()\n",
    "times[-1]"
   ]
  },
  {
   "cell_type": "markdown",
   "metadata": {},
   "source": [
    "# <center> Loading the velocity field "
   ]
  },
  {
   "cell_type": "code",
   "execution_count": null,
   "metadata": {},
   "outputs": [],
   "source": [
    "x, y, z = np.meshgrid(X, Y, Z, indexing='ij')\n",
    "\n",
    "kx,  ky,  kz = np.meshgrid(Kx,  Ky,  Kz,  indexing = 'ij')\n",
    "k = (kx**2 + ky**2 + kz**2)**0.5\n"
   ]
  },
  {
   "cell_type": "code",
   "execution_count": 23,
   "metadata": {},
   "outputs": [],
   "source": [
    "\n",
    "# np.load(f\"/mnt/pfs/rajarshi.chattopadhyay/3D-DNS/data/zero-start/time_10.0/Fields_56.npz\")[\"u\"].shape\n",
    "u = np.zeros((N,N,N))\n",
    "v = np.zeros((N,N,N))\n",
    "w = np.zeros((N,N,N))\n",
    "# times = np.array(list(np.arange(0,200.5,10)) )#+  list(np.arange(50.9,100.5,1.0)))\n"
   ]
  },
  {
   "cell_type": "code",
   "execution_count": 30,
   "metadata": {},
   "outputs": [
    {
     "name": "stdout",
     "output_type": "stream",
     "text": [
      "done for slab 511\r"
     ]
    }
   ],
   "source": [
    "t = 2.0\n",
    "Ns= N//num_slabs\n",
    "for i in range(num_slabs):\n",
    "    data = np.load(loadPath(t)/f\"Fields_{i}.npz\")\n",
    "    u[i*Ns:(i+1)*Ns] = data[\"u\"]\n",
    "    print(f\"done for slab {i}\",end = \"\\r\")"
   ]
  },
  {
   "cell_type": "code",
   "execution_count": 46,
   "metadata": {},
   "outputs": [
    {
     "name": "stdout",
     "output_type": "stream",
     "text": [
      "Done for slab 1023\r"
     ]
    },
    {
     "data": {
      "text/plain": [
       "<Figure size 3000x3000 with 0 Axes>"
      ]
     },
     "metadata": {},
     "output_type": "display_data"
    }
   ],
   "source": [
    "import subprocess\n",
    "\n",
    "cmap= color_palette(\"icefire\",as_cmap=True)\n",
    "norm = mpl.colors.TwoSlopeNorm(vcenter = 0)\n",
    "# p1 = plt.imshow(u[...,0],cmap = cmap,alpha = 0.9)\n",
    "# plt.colorbar(p1)\n",
    "output_dir = pathlib.Path(\"/mnt/pfs/rajarshi.chattopadhyay/codes/HIT_3D/output_images\")\n",
    "output_dir.mkdir(parents=True, exist_ok=True)\n",
    "plt.figure(figsize=(10, 10), dpi=300)\n",
    "plt.axis('off')\n",
    "plt.gca().set_facecolor('none')\n",
    "plt.gca().set_alpha(0)\n",
    "for zslab in range(N):\n",
    "    p1 = plt.imshow(u[..., zslab], cmap=cmap, norm=norm, alpha=1.0)\n",
    "    cbar = plt.colorbar(p1, shrink=0.5)\n",
    "    cbar.ax.yaxis.set_tick_params(color='white')\n",
    "    plt.setp(plt.getp(cbar.ax.axes, 'yticklabels'), color='white')\n",
    "    plt.title(f\"Z-slab {zslab}\")\n",
    "    plt.tight_layout()\n",
    "    plt.savefig(output_dir / f\"zslab_{zslab}.png\",transparent = True)\n",
    "    plt.clf()\n",
    "    print(f\"Done for slab {zslab}\", end=\"\\r\")\n",
    "# Run the ffmpeg command\n"
   ]
  },
  {
   "cell_type": "code",
   "execution_count": 48,
   "metadata": {},
   "outputs": [
    {
     "name": "stderr",
     "output_type": "stream",
     "text": [
      "ffmpeg version 7.1 Copyright (c) 2000-2024 the FFmpeg developers\n",
      "  built with gcc 13.3.0 (conda-forge gcc 13.3.0-1)\n",
      "  configuration: --prefix=/home/conda/feedstock_root/build_artifacts/ffmpeg_1732155191655/_h_env_placehold_placehold_placehold_placehold_placehold_placehold_placehold_placehold_placehold_placehold_placehold_placehold_placehold_placehold_placehold_placehold_placehold_placehold_plac --cc=/home/conda/feedstock_root/build_artifacts/ffmpeg_1732155191655/_build_env/bin/x86_64-conda-linux-gnu-cc --cxx=/home/conda/feedstock_root/build_artifacts/ffmpeg_1732155191655/_build_env/bin/x86_64-conda-linux-gnu-c++ --nm=/home/conda/feedstock_root/build_artifacts/ffmpeg_1732155191655/_build_env/bin/x86_64-conda-linux-gnu-nm --ar=/home/conda/feedstock_root/build_artifacts/ffmpeg_1732155191655/_build_env/bin/x86_64-conda-linux-gnu-ar --disable-doc --enable-openssl --enable-demuxer=dash --enable-hardcoded-tables --enable-libfreetype --enable-libharfbuzz --enable-libfontconfig --enable-libopenh264 --enable-libdav1d --disable-gnutls --enable-libmp3lame --enable-libvpx --enable-libass --enable-pthreads --enable-vaapi --enable-libopenvino --enable-gpl --enable-libx264 --enable-libx265 --enable-libaom --enable-libsvtav1 --enable-libxml2 --enable-pic --enable-shared --disable-static --enable-version3 --enable-zlib --enable-libopus --enable-librsvg --pkg-config=/home/conda/feedstock_root/build_artifacts/ffmpeg_1732155191655/_build_env/bin/pkg-config\n",
      "  libavutil      59. 39.100 / 59. 39.100\n",
      "  libavcodec     61. 19.100 / 61. 19.100\n",
      "  libavformat    61.  7.100 / 61.  7.100\n",
      "  libavdevice    61.  3.100 / 61.  3.100\n",
      "  libavfilter    10.  4.100 / 10.  4.100\n",
      "  libswscale      8.  3.100 /  8.  3.100\n",
      "  libswresample   5.  3.100 /  5.  3.100\n",
      "  libpostproc    58.  3.100 / 58.  3.100\n",
      "Input #0, image2, from '/mnt/pfs/rajarshi.chattopadhyay/codes/HIT_3D/output_images/zslab_%d.png':\n",
      "  Duration: 00:00:17.07, start: 0.000000, bitrate: N/A\n",
      "  Stream #0:0: Video: png, rgba(pc, gbr/unknown/unknown), 3000x3000 [SAR 11811:11811 DAR 1:1], 60 fps, 60 tbr, 60 tbn\n",
      "Stream mapping:\n",
      "  Stream #0:0 -> #0:0 (png (native) -> hevc (libx265))\n",
      "Press [q] to stop, [?] for help\n",
      "x265 [info]: HEVC encoder version 3.5+1-f0c1022b6\n",
      "x265 [info]: build info [Linux][GCC 10.3.0][64 bit] 8bit+10bit+12bit\n",
      "x265 [info]: using cpu capabilities: MMX2 SSE2Fast LZCNT SSSE3 SSE4.2 AVX FMA3 BMI2 AVX2\n",
      "x265 [info]: Main profile, Level-6 (Main tier)\n",
      "x265 [info]: Thread pool created using 64 threads\n",
      "x265 [info]: Slices                              : 1\n",
      "x265 [info]: frame threads / pool features       : 6 / wpp(47 rows)\n",
      "x265 [info]: Coding QT: max CU size, min CU size : 64 / 8\n",
      "x265 [info]: Residual QT: max TU size, max depth : 32 / 1 inter / 1 intra\n",
      "x265 [info]: ME / range / subpel / merge         : hex / 57 / 2 / 3\n",
      "x265 [info]: Keyframe min / max / scenecut / bias  : 25 / 250 / 40 / 5.00 \n",
      "x265 [info]: Lookahead / bframes / badapt        : 20 / 4 / 2\n",
      "x265 [info]: b-pyramid / weightp / weightb       : 1 / 1 / 0\n",
      "x265 [info]: References / ref-limit  cu / depth  : 3 / off / on\n",
      "x265 [info]: AQ: mode / str / qg-size / cu-tree  : 2 / 1.0 / 32 / 1\n",
      "x265 [info]: Rate Control / qCompress            : CRF-1.0 / 0.60\n",
      "x265 [info]: tools: rd=3 psy-rd=2.00 early-skip rskip mode=1 signhide tmvp\n",
      "x265 [info]: tools: b-intra strong-intra-smoothing lslices=8 deblock sao\n",
      "Output #0, mp4, to '/mnt/pfs/rajarshi.chattopadhyay/codes/HIT_3D/output_images/z_span.mp4':\n",
      "  Metadata:\n",
      "    encoder         : Lavf61.7.100\n",
      "  Stream #0:0: Video: hevc (hev1 / 0x31766568), yuv420p(tv, progressive), 3000x3000 [SAR 1:1 DAR 1:1], q=2-31, 60 fps, 15360 tbn\n",
      "      Metadata:\n",
      "        encoder         : Lavc61.19.100 libx265\n",
      "      Side data:\n",
      "        cpb: bitrate max/min/avg: 0/0/0 buffer size: 0 vbv_delay: N/A\n",
      "[out#0/mp4 @ 0x55ee533382c0] video:85789KiB audio:0KiB subtitle:0KiB other streams:0KiB global headers:2KiB muxing overhead: 0.017788%\n",
      "frame= 1024 fps= 14 q=9.6 Lsize=   85804KiB time=00:00:17.03 bitrate=41266.6kbits/s speed=0.239x    \n",
      "x265 [info]: frame I:      5, Avg QP:3.84  kb/s: 307878.82\n",
      "x265 [info]: frame P:    201, Avg QP:5.26  kb/s: 148584.54\n",
      "x265 [info]: frame B:    818, Avg QP:9.42  kb/s: 13154.15\n",
      "x265 [info]: Weighted P-Frames: Y:0.0% UV:0.0%\n",
      "x265 [info]: consecutive B-frames: 0.5% 0.0% 0.0% 1.0% 98.5% \n",
      "\n",
      "encoded 1024 frames in 70.67s (14.49 fps), 41176.74 kb/s, Avg QP:8.57\n"
     ]
    },
    {
     "data": {
      "text/plain": [
       "CompletedProcess(args=['ffmpeg', '-framerate', '60', '-i', '/mnt/pfs/rajarshi.chattopadhyay/codes/HIT_3D/output_images/zslab_%d.png', '-vcodec', 'libx265', '-pix_fmt', 'yuv420p', '-crf', '1', '/mnt/pfs/rajarshi.chattopadhyay/codes/HIT_3D/output_images/z_span.mp4'], returncode=0)"
      ]
     },
     "execution_count": 48,
     "metadata": {},
     "output_type": "execute_result"
    }
   ],
   "source": [
    "subprocess.run([\n",
    "    'ffmpeg', '-framerate', '60', '-i', '/mnt/pfs/rajarshi.chattopadhyay/codes/HIT_3D/output_images/zslab_%d.png',\n",
    "    '-vcodec', 'libx265', '-pix_fmt', 'yuv420p', '-crf', '1', '/mnt/pfs/rajarshi.chattopadhyay/codes/HIT_3D/output_images/z_span.mp4'\n",
    "])"
   ]
  },
  {
   "cell_type": "markdown",
   "metadata": {},
   "source": [
    "# <center> Time series + Kolmogorov Length scale"
   ]
  },
  {
   "cell_type": "code",
   "execution_count": 6,
   "metadata": {},
   "outputs": [
    {
     "name": "stdout",
     "output_type": "stream",
     "text": [
      "Loading Done for time: 5.0\r"
     ]
    }
   ],
   "source": [
    "tload = times\n",
    "ke = np.zeros(len(tload))\n",
    "pe = np.zeros(len(tload))\n",
    "eta = np.zeros(len(tload))\n",
    "for ii,t in enumerate(tload):\n",
    "    print('Loading Done for time:',t,end = '\\r')\n",
    "\n",
    "    # ke[ii] = np.sum(np.load(loadPath(t)/f\"KE_spectrum.npz\")[\"ek\"])\n",
    "    ek = np.load(loadPath(t)/f\"Energy_spectrum.npz\")[\"ek\"]\n",
    "    ke[ii] = np.sum(ek)\n",
    "    eta[ii] = (nu**3/ (nu *np.sum(np.arange(Nf)**2 * 2 * (ek)/(TWO_PI**3))))**0.25\n",
    "    # pe[ii] = np.sum(np.load(loadPath(t)/f\"PE_spectrum.npz\")[\"ek\"])"
   ]
  },
  {
   "cell_type": "code",
   "execution_count": 7,
   "metadata": {},
   "outputs": [
    {
     "data": {
      "text/plain": [
       "Text(0, 0.5, '$E$')"
      ]
     },
     "execution_count": 7,
     "metadata": {},
     "output_type": "execute_result"
    },
    {
     "data": {
      "image/png": "[encoded data removed]",
      "text/plain": [
       "<Figure size 640x480 with 1 Axes>"
      ]
     },
     "metadata": {},
     "output_type": "display_data"
    }
   ],
   "source": [
    "# plt.plot(tload,eta,'x-')\n",
    "plt.plot(tload,ke/(TWO_PI**3),'o-')\n",
    "# plt.plot(tload,pe,'o-')\n",
    "# plt.plot(tload,pe + ke,'o-')\n",
    "# plt.ylim(0,10)   \n",
    "# plt.xlim(0,150) \n",
    "#plt.yscale('log',base = 2)\n",
    "plt.xlabel('Time')\n",
    "\n",
    "plt.ylabel('$E$')"
   ]
  },
  {
   "cell_type": "code",
   "execution_count": 8,
   "metadata": {},
   "outputs": [
    {
     "data": {
      "text/plain": [
       "Text(0, 0.5, '$k_{max}\\\\eta$')"
      ]
     },
     "execution_count": 8,
     "metadata": {},
     "output_type": "execute_result"
    },
    {
     "data": {
      "image/png": "[encoded data removed]",
      "text/plain": [
       "<Figure size 640x480 with 1 Axes>"
      ]
     },
     "metadata": {},
     "output_type": "display_data"
    }
   ],
   "source": [
    "plt.plot(tload,eta*(N//3),'x-')\n",
    "# plt.plot(tload,pe,'o-')\n",
    "# plt.plot(tload,pe + ke,'o-')\n",
    "# plt.ylim(0,2)   \n",
    "# plt.xlim(0,150) \n",
    "# plt.yscale('log',base = 2)\n",
    "plt.xlabel('Time')\n",
    "plt.ylabel('$k_{max}\\eta$',rotation = 0)"
   ]
  },
  {
   "cell_type": "markdown",
   "metadata": {},
   "source": [
    "# <center> Energy Spectrum"
   ]
  },
  {
   "cell_type": "code",
   "execution_count": 9,
   "metadata": {},
   "outputs": [
    {
     "data": {
      "text/html": [
       "<svg  width=\"330\" height=\"55\"><rect x=\"0\" y=\"0\" width=\"55\" height=\"55\" style=\"fill:#e41a1c;stroke-width:2;stroke:rgb(255,255,255)\"/><rect x=\"55\" y=\"0\" width=\"55\" height=\"55\" style=\"fill:#377eb8;stroke-width:2;stroke:rgb(255,255,255)\"/><rect x=\"110\" y=\"0\" width=\"55\" height=\"55\" style=\"fill:#4daf4a;stroke-width:2;stroke:rgb(255,255,255)\"/><rect x=\"165\" y=\"0\" width=\"55\" height=\"55\" style=\"fill:#984ea3;stroke-width:2;stroke:rgb(255,255,255)\"/><rect x=\"220\" y=\"0\" width=\"55\" height=\"55\" style=\"fill:#ff7f00;stroke-width:2;stroke:rgb(255,255,255)\"/><rect x=\"275\" y=\"0\" width=\"55\" height=\"55\" style=\"fill:#ffff33;stroke-width:2;stroke:rgb(255,255,255)\"/></svg>"
      ],
      "text/plain": [
       "[(0.8941176470588236, 0.10196078431372549, 0.10980392156862745),\n",
       " (0.21568627450980393, 0.49411764705882355, 0.7215686274509804),\n",
       " (0.30196078431372547, 0.6862745098039216, 0.2901960784313726),\n",
       " (0.596078431372549, 0.3058823529411765, 0.6392156862745098),\n",
       " (1.0, 0.4980392156862745, 0.0),\n",
       " (1.0, 1.0, 0.2)]"
      ]
     },
     "execution_count": 9,
     "metadata": {},
     "output_type": "execute_result"
    }
   ],
   "source": [
    "cls = sns.color_palette(\"Set1\", len(times))\n",
    "cls"
   ]
  },
  {
   "cell_type": "code",
   "execution_count": 14,
   "metadata": {},
   "outputs": [
    {
     "name": "stdout",
     "output_type": "stream",
     "text": [
      "0.012422458450146612 291.59253024685427 2.024545963719187 4.2360583314999944 0.33593849768053646\n"
     ]
    },
    {
     "data": {
      "text/plain": [
       "(1e-10, 10)"
      ]
     },
     "execution_count": 14,
     "metadata": {},
     "output_type": "execute_result"
    },
    {
     "data": {
      "image/png": "[encoded data removed]",
      "text/plain": [
       "<Figure size 1000x500 with 1 Axes>"
      ]
     },
     "metadata": {},
     "output_type": "display_data"
    }
   ],
   "source": [
    "plt.figure(figsize = (10,5))\n",
    "for t in [i for i in times[-1:]]:\n",
    "    print('Loding Done for time:',t,end = '\\r')\n",
    "    # print(str(loadPath(t)))\n",
    "    # for i in range(num_slabs):\n",
    "    #     Fields = np.load(loadPath(t)/f\"Fields_{i:.0f}.npz\")\n",
    "    #     # print(Fields.files)\n",
    "    #     u[i*(N//num_slabs): (i+1)*(N//num_slabs),:]  = Fields[\"u\"][:,:,:]\n",
    "    #     v[i*(N//num_slabs): (i+1)*(N//num_slabs),:]  = Fields[\"v\"][:,:,:]\n",
    "    #     w[i*(N//num_slabs): (i+1)*(N//num_slabs),:]  = Fields[\"w\"][:,:,:]\n",
    "        \n",
    "    # uk = rfftn(u)/(N**6/(TWO_PI**3*2))**0.5\n",
    "    # vk = rfftn(v)/(N**6/(TWO_PI**3*2))**0.5\n",
    "    # wk = rfftn(w)/(N**6/(TWO_PI**3*2))**0.5\n",
    "\n",
    "    # uk[...,0] = 2**(-0.5)*uk[...,0]\n",
    "    # vk[...,0] = 2**(-0.5)*vk[...,0]\n",
    "    # wk[...,0] = 2**(-0.5)*wk[...,0]\n",
    "    \n",
    "    # uk[...,-1] = 2**(-0.5)*uk[...,-1]\n",
    "    # vk[...,-1] = 2**(-0.5)*vk[...,-1]\n",
    "    # wk[...,-1] = 2**(-0.5)*wk[...,-1]\n",
    "    # ek = np.sum(uk*np.conj(uk) + vk*np.conj(vk) + wk*np.conj(wk)).real\n",
    "    k = np.arange(Nf)\n",
    "    ek =  np.load(loadPath(t)/f\"Energy_spectrum.npz\")[\"ek\"]\n",
    "    dissip = 2*nu*np.sum(ek*k**2)/TWO_PI**3\n",
    "    eta = (nu**3/ dissip)**0.25\n",
    "    print(eta,ek.sum(),eta/(TWO_PI/N),N//3*eta,dissip)\n",
    "    # print(ek.shape)\n",
    "    # enstr = np.sum(k**2*ek)\n",
    "    # plt.plot(t,enstr,\"o\")\n",
    "    # e1d = np.bincount(np.round(k).ravel().astype(int),weights=ek.ravel())[:Nf]\n",
    "    xdat = np.arange(1,Nf)\n",
    "    ydat = ek[1:]*(xdat)**(0/3.)/(TWO_PI**3)\n",
    "    plt.plot(xdat,ydat,\".-\",label = f\"t = {t:.0f}\", color = cls[times.index(t)])\n",
    "    # plt.axhline(1,'--',color = \"black\",lw = 2)\n",
    "xdat = np.arange(1,Nf)\n",
    "ydat =0.5*dissip**(-2/3)*xdat**(-5/3)\n",
    "plt.plot(xdat,ydat,'--',lw = 2,color = \"#001219\")\n",
    "line = np.array([1.2,100])\n",
    "# plt.plot(line,1e3*line**(-3.),\"--\",color = \"black\")\n",
    "# plt.text(5,80,r\"$k^{-3}$\",fontsize = 12)\n",
    "# plt.plot(line,1e2*line**(-5/3.),\"--\",color = \"black\")\n",
    "# plt.text(20,80,r\"$k^{-\\frac53}$\",fontsize = 12)\n",
    "plt.axvline(1/3*N, linestyle='--', color='black')\n",
    "plt.text(int(1/3*N*0.85), 10, r'$\\frac{N}{3}$', fontsize=12)  # Add text label\n",
    "# plt.axvline(Nd, linestyle='--', color='black')\n",
    "# plt.text(Nd*0.8, 10, r'$\\frac{N}{\\sqrt{3}}$', fontsize=12)  # Add text label\n",
    "# plt.axhline(5e-5, linestyle='--', color='black')\n",
    "# plt.text(1, 1.5*5e-5, r'$k^2$', fontsize=12)  # Add text label\n",
    "\n",
    "plt.yscale(\"log\")\n",
    "plt.xscale(\"log\")\n",
    "plt.xlabel(r\"$k$\")\n",
    "plt.ylabel(r\"$E(k)$\")\n",
    "plt.legend()\n",
    "plt.grid(which = \"both\")\n",
    "\n",
    "plt.ylim(1e-10,10)\n",
    "\n"
   ]
  },
  {
   "cell_type": "markdown",
   "metadata": {},
   "source": [
    "# <center> Structure Function"
   ]
  },
  {
   "cell_type": "code",
   "execution_count": 7,
   "metadata": {},
   "outputs": [],
   "source": [
    "p = 1\n",
    "r = dx*np.arange(Nf)"
   ]
  },
  {
   "cell_type": "code",
   "execution_count": 8,
   "metadata": {},
   "outputs": [],
   "source": [
    "color = [\"264653\",\"2a9d8f\",\"e9c46a\",\"f4a261\",\"e76f51\"]"
   ]
  },
  {
   "cell_type": "code",
   "execution_count": 15,
   "metadata": {},
   "outputs": [
    {
     "data": {
      "image/png": "[encoded data removed]",
      "text/plain": [
       "<Figure size 640x480 with 1 Axes>"
      ]
     },
     "metadata": {},
     "output_type": "display_data"
    }
   ],
   "source": [
    "for p in range(1,2):\n",
    "    sfunc = np.load(f\"/mnt/pfs/rajarshi.chattopadhyay/codes/HIT_3D/struct-func-{p:.1f}-N-{N}.npy\")\n",
    "    # s3 = np.load(f\"/mnt/pfs/rajarshi.chattopadhyay/codes/3D-DNS/pstprc_data/struct-func-{3:.1f}-N-512.npy\")\n",
    "    # poly = np.polyfit(np.log(s3[1:]),np.log(sfunc[1:]),1)\n",
    "    # print(poly[0],p/3)\n",
    "    line1 = np.array([1,20])\n",
    "    line2 = np.array([30,256])\n",
    "    cls = \"#\" + color[-p]\n",
    "    plt.plot(r[1:]/dx,sfunc[1:]*(r[1:]**(-p)),'.-',label = f\"$p = {p}$\",color =cls)\n",
    "    # plt.plot(s3[1:],(sfunc[1:] - sfunc[:-1])/(s3[1:]-s3[:-1]),'.-',label = f\"Slope $ p = {p}$\",color =cls )\n",
    "    # plt.plot(line1,5e-2*line1**(p),\"--\",color =cls)\n",
    "    # plt.plot(line2,5e-2*line2**(p/3),\"--\",color =cls)\n",
    "plt.xscale(\"log\")\n",
    "plt.yscale(\"log\")\n",
    "plt.legend()\n",
    "# plt.xlim(1e-7,1e-3)\n",
    "# plt.ylim(1e-9,1e-1)\n",
    "plt.xlabel(r\"$S_3$\")\n",
    "plt.ylabel(r\"$S_p(r)$\",rotation = 0,labelpad = 20)\n",
    "# plt.ylabel(r\"Slope\",rotation = 0,labelpad = 20)\n",
    "plt.grid()"
   ]
  },
  {
   "cell_type": "code",
   "execution_count": null,
   "metadata": {},
   "outputs": [],
   "source": []
  }
 ],
 "metadata": {
  "kernelspec": {
   "display_name": "Python 3",
   "language": "python",
   "name": "python3"
  },
  "language_info": {
   "codemirror_mode": {
    "name": "ipython",
    "version": 3
   },
   "file_extension": ".py",
   "mimetype": "text/x-python",
   "name": "python",
   "nbconvert_exporter": "python",
   "pygments_lexer": "ipython3",
   "version": "3.11.9"
  }
 },
 "nbformat": 4,
 "nbformat_minor": 2
}
